{
 "cells": [
  {
   "cell_type": "markdown",
   "metadata": {},
   "source": [
    "Deep Learning\n",
    "=============\n",
    "\n",
    "Assignment 6\n",
    "------------\n",
    "\n",
    "After training a skip-gram model in `5_word2vec.ipynb`, the goal of this notebook is to train a LSTM character model over [Text8](http://mattmahoney.net/dc/textdata) data."
   ]
  },
  {
   "cell_type": "code",
   "execution_count": 1,
   "metadata": {
    "collapsed": false
   },
   "outputs": [],
   "source": [
    "# These are all the modules we'll be using later. Make sure you can import them\n",
    "# before proceeding further.\n",
    "from __future__ import print_function\n",
    "import os\n",
    "import numpy as np\n",
    "import random\n",
    "import string\n",
    "import tensorflow as tf\n",
    "import zipfile\n",
    "from six.moves import range\n",
    "from six.moves.urllib.request import urlretrieve"
   ]
  },
  {
   "cell_type": "code",
   "execution_count": 2,
   "metadata": {
    "collapsed": false
   },
   "outputs": [
    {
     "name": "stdout",
     "output_type": "stream",
     "text": [
      "Found and verified text8.zip\n"
     ]
    }
   ],
   "source": [
    "url = 'http://mattmahoney.net/dc/'\n",
    "\n",
    "def maybe_download(filename, expected_bytes):\n",
    "    \"\"\"Download a file if not present, and make sure it's the right size.\"\"\"\n",
    "    if not os.path.exists(filename):\n",
    "        filename, _ = urlretrieve(url + filename, filename)\n",
    "    statinfo = os.stat(filename)\n",
    "    if statinfo.st_size == expected_bytes:\n",
    "        print('Found and verified %s' % filename)\n",
    "    else:\n",
    "        print(statinfo.st_size)\n",
    "        raise Exception(\n",
    "            'Failed to verify ' + filename + '. Can you get to it with a browser?')\n",
    "    return filename\n",
    "\n",
    "filename = maybe_download('text8.zip', 31344016)"
   ]
  },
  {
   "cell_type": "code",
   "execution_count": 3,
   "metadata": {
    "collapsed": false
   },
   "outputs": [
    {
     "name": "stdout",
     "output_type": "stream",
     "text": [
      "Data size 100000000\n"
     ]
    }
   ],
   "source": [
    "def read_data(filename):\n",
    "    with zipfile.ZipFile(filename) as f:\n",
    "        name = f.namelist()[0]\n",
    "        data = tf.compat.as_str(f.read(name))\n",
    "    return data\n",
    "  \n",
    "text = read_data(filename)\n",
    "print('Data size %d' % len(text))"
   ]
  },
  {
   "cell_type": "code",
   "execution_count": 4,
   "metadata": {
    "collapsed": false
   },
   "outputs": [
    {
     "name": "stdout",
     "output_type": "stream",
     "text": [
      "99999000 ons anarchists advocate social relations based upon voluntary as\n",
      "1000  anarchism originated as a term of abuse first used against earl\n"
     ]
    }
   ],
   "source": [
    "valid_size = 1000\n",
    "valid_text = text[:valid_size]\n",
    "train_text = text[valid_size:]\n",
    "train_size = len(train_text)\n",
    "print(train_size, train_text[:64])\n",
    "print(valid_size, valid_text[:64])"
   ]
  },
  {
   "cell_type": "code",
   "execution_count": 5,
   "metadata": {
    "collapsed": false
   },
   "outputs": [
    {
     "name": "stdout",
     "output_type": "stream",
     "text": [
      "Unexpected character: ï\n",
      "1 26 0 0\n",
      "a z  \n"
     ]
    }
   ],
   "source": [
    "vocabulary_size = len(string.ascii_lowercase) + 1 # [a-z] + ' '\n",
    "first_letter = ord(string.ascii_lowercase[0])\n",
    "\n",
    "def char2id(char):\n",
    "    if char in string.ascii_lowercase:\n",
    "        return ord(char) - first_letter + 1\n",
    "    elif char == ' ':\n",
    "        return 0\n",
    "    else:\n",
    "        print('Unexpected character: %s' % char)\n",
    "        return 0\n",
    "    \n",
    "def id2char(dictid):\n",
    "    if dictid > 0:\n",
    "        return chr(dictid + first_letter - 1)\n",
    "    else:\n",
    "        return ' '\n",
    "\n",
    "print(char2id('a'), char2id('z'), char2id(' '), char2id('ï'))\n",
    "print(id2char(1), id2char(26), id2char(0))"
   ]
  },
  {
   "cell_type": "markdown",
   "metadata": {},
   "source": [
    "Function to generate a training batch for the LSTM model."
   ]
  },
  {
   "cell_type": "code",
   "execution_count": 6,
   "metadata": {
    "collapsed": false
   },
   "outputs": [
    {
     "name": "stdout",
     "output_type": "stream",
     "text": [
      "['ons anarchi', 'when milita', 'lleria arch', ' abbeys and', 'married urr', 'hel and ric', 'y and litur', 'ay opened f', 'tion from t', 'migration t', 'new york ot', 'he boeing s', 'e listed wi', 'eber has pr', 'o be made t', 'yer who rec', 'ore signifi', 'a fierce cr', ' two six ei', 'aristotle s', 'ity can be ', ' and intrac', 'tion of the', 'dy to pass ', 'f certain d', 'at it will ', 'e convince ', 'ent told hi', 'ampaign and', 'rver side s', 'ious texts ', 'o capitaliz', 'a duplicate', 'gh ann es d', 'ine january', 'ross zero t', 'cal theorie', 'ast instanc', ' dimensiona', 'most holy m', 't s support', 'u is still ', 'e oscillati', 'o eight sub', 'of italy la', 's the tower', 'klahoma pre', 'erprise lin', 'ws becomes ', 'et in a naz', 'the fabian ', 'etchy to re', ' sharman ne', 'ised empero', 'ting in pol', 'd neo latin', 'th risky ri', 'encyclopedi', 'fense the a', 'duating fro', 'treet grid ', 'ations more', 'appeal of d', 'si have mad']\n",
      "['ists advoca', 'ary governm', 'hes nationa', 'd monasteri', 'raca prince', 'chard baer ', 'rgical lang', 'for passeng', 'the nationa', 'took place ', 'ther well k', 'seven six s', 'ith a gloss', 'robably bee', 'to recogniz', 'ceived the ', 'icant than ', 'ritic of th', 'ight in sig', 's uncaused ', ' lost as in', 'cellular ic', 'e size of t', ' him a stic', 'drugs confu', ' take to co', ' the priest', 'im to name ', 'd barred at', 'standard fo', ' such as es', 'ze on the g', 'e of the or', 'd hiver one', 'y eight mar', 'the lead ch', 'es classica', 'ce the non ', 'al analysis', 'mormons bel', 't or at lea', ' disagreed ', 'ing system ', 'btypes base', 'anguages th', 'r commissio', 'ess one nin', 'nux suse li', ' the first ', 'zi concentr', ' society ne', 'elatively s', 'etworks sha', 'or hirohito', 'litical ini', 'n most of t', 'iskerdoo ri', 'ic overview', 'air compone', 'om acnm acc', ' centerline', 'e than any ', 'devotional ', 'de such dev']\n",
      "[' a']\n",
      "['an']\n"
     ]
    }
   ],
   "source": [
    "batch_size=64\n",
    "num_unrollings=10\n",
    "\n",
    "class BatchGenerator(object):\n",
    "    def __init__(self, text, batch_size, num_unrollings):\n",
    "        self._text = text\n",
    "        self._text_size = len(text)\n",
    "        self._batch_size = batch_size\n",
    "        self._num_unrollings = num_unrollings\n",
    "        segment = self._text_size // batch_size\n",
    "        self._cursor = [ offset * segment for offset in range(batch_size)]\n",
    "        self._last_batch = self._next_batch()\n",
    "  \n",
    "    def _next_batch(self):\n",
    "        \"\"\"Generate a single batch from the current cursor position in the data.\"\"\"\n",
    "        batch = np.zeros(shape=(self._batch_size, vocabulary_size), dtype=np.float)\n",
    "        for b in range(self._batch_size):\n",
    "            batch[b, char2id(self._text[self._cursor[b]])] = 1.0\n",
    "            self._cursor[b] = (self._cursor[b] + 1) % self._text_size\n",
    "        return batch\n",
    "    \n",
    "    def next(self):\n",
    "        \"\"\"Generate the next array of batches from the data. The array consists of\n",
    "        the last batch of the previous array, followed by num_unrollings new ones.\n",
    "        \"\"\"\n",
    "        batches = [self._last_batch]\n",
    "        for step in range(self._num_unrollings):\n",
    "            batches.append(self._next_batch())\n",
    "        self._last_batch = batches[-1]\n",
    "        return batches\n",
    "\n",
    "def characters(probabilities):\n",
    "    \"\"\"Turn a 1-hot encoding or a probability distribution over the possible\n",
    "    characters back into its (most likely) character representation.\"\"\"\n",
    "    return [id2char(c) for c in np.argmax(probabilities, 1)]\n",
    "\n",
    "def batches2string(batches):\n",
    "    \"\"\"Convert a sequence of batches back into their (most likely) string\n",
    "    representation.\"\"\"\n",
    "    s = [''] * batches[0].shape[0]\n",
    "    for b in batches:\n",
    "        s = [''.join(x) for x in zip(s, characters(b))]\n",
    "    return s\n",
    "\n",
    "train_batches = BatchGenerator(train_text, batch_size, num_unrollings)\n",
    "valid_batches = BatchGenerator(valid_text, 1, 1)\n",
    "\n",
    "print(batches2string(train_batches.next()))\n",
    "print(batches2string(train_batches.next()))\n",
    "print(batches2string(valid_batches.next()))\n",
    "print(batches2string(valid_batches.next()))"
   ]
  },
  {
   "cell_type": "code",
   "execution_count": 7,
   "metadata": {
    "collapsed": true
   },
   "outputs": [],
   "source": [
    "def logprob(predictions, labels):\n",
    "  \"\"\"Log-probability of the true labels in a predicted batch.\"\"\"\n",
    "  predictions[predictions < 1e-10] = 1e-10\n",
    "  return np.sum(np.multiply(labels, -np.log(predictions))) / labels.shape[0]\n",
    "\n",
    "def sample_distribution(distribution):\n",
    "  \"\"\"Sample one element from a distribution assumed to be an array of normalized\n",
    "  probabilities.\n",
    "  \"\"\"\n",
    "  r = random.uniform(0, 1)\n",
    "  s = 0\n",
    "  for i in range(len(distribution)):\n",
    "    s += distribution[i]\n",
    "    if s >= r:\n",
    "      return i\n",
    "  return len(distribution) - 1\n",
    "\n",
    "def sample(prediction):\n",
    "  \"\"\"Turn a (column) prediction into 1-hot encoded samples.\"\"\"\n",
    "  p = np.zeros(shape=[1, vocabulary_size], dtype=np.float)\n",
    "  p[0, sample_distribution(prediction[0])] = 1.0\n",
    "  return p\n",
    "\n",
    "def random_distribution():\n",
    "  \"\"\"Generate a random column of probabilities.\"\"\"\n",
    "  b = np.random.uniform(0.0, 1.0, size=[1, vocabulary_size])\n",
    "  return b/np.sum(b, 1)[:,None]"
   ]
  },
  {
   "cell_type": "code",
   "execution_count": 8,
   "metadata": {
    "collapsed": false
   },
   "outputs": [],
   "source": [
    "\n",
    "num_neurons = 200\n",
    "num_layers = 3\n",
    "\n",
    "graph = tf.Graph()\n",
    "with graph.as_default():\n",
    "    \n",
    "    dropout = tf.placeholder(tf.float32, name='dropout')\n",
    "\n",
    "    cell = tf.nn.rnn_cell.LSTMCell(num_neurons)\n",
    "    cell = tf.nn.rnn_cell.DropoutWrapper(cell, output_keep_prob=dropout)\n",
    "    cell = tf.nn.rnn_cell.MultiRNNCell([cell]*num_layers)\n",
    "\n",
    "    max_length = 10\n",
    "\n",
    "    data = tf.placeholder(tf.float32, [None, max_length, 27], name='data')\n",
    "    output, state = tf.nn.dynamic_rnn(cell, data, dtype=tf.float32)\n",
    "\n",
    "    target_size = 27\n",
    "    target = tf.placeholder(tf.float32, [None, max_length, target_size], name='target')\n",
    "    out_size = int(target.get_shape()[2])\n",
    "\n",
    "    class_w = tf.Variable(tf.truncated_normal([num_neurons, out_size], -0.1, 0.1))\n",
    "    class_b = tf.Variable(tf.zeros([out_size]))\n",
    "\n",
    "    output = tf.reshape(output, [-1, num_neurons])\n",
    "    logits = tf.matmul(output, class_w) + class_b\n",
    "    train_pred = tf.nn.softmax(logits)\n",
    "#     train_pred = tf.reshape(train_pred, [-1, max_length, out_size])\n",
    "\n",
    "    cross_entropy = tf.reduce_mean(tf.nn.softmax_cross_entropy_with_logits(\n",
    "        logits=logits, labels=target))\n",
    "\n",
    "    learn_rate = 0.1\n",
    "    optimizer = tf.train.GradientDescentOptimizer(learning_rate=learn_rate)\n",
    "    gradients, v = zip(*optimizer.compute_gradients(cross_entropy))\n",
    "    gradients, _ = tf.clip_by_global_norm(gradients, 1.25)\n",
    "    optimizer = optimizer.apply_gradients(zip(gradients, v))"
   ]
  },
  {
   "cell_type": "code",
   "execution_count": 9,
   "metadata": {
    "collapsed": false
   },
   "outputs": [],
   "source": [
    "t = train_batches.next()"
   ]
  },
  {
   "cell_type": "code",
   "execution_count": 10,
   "metadata": {
    "collapsed": true
   },
   "outputs": [],
   "source": [
    "def batch_to_data(batch):\n",
    "    train_data = []\n",
    "    labels = []\n",
    "    batch = np.array(batch).swapaxes(0, 1)\n",
    "    for seq in batch:\n",
    "        train_data.append(seq[:-1])\n",
    "        labels.append(seq[1:])\n",
    "    return np.array(train_data), np.array(labels)"
   ]
  },
  {
   "cell_type": "code",
   "execution_count": 11,
   "metadata": {
    "collapsed": true
   },
   "outputs": [],
   "source": [
    "train_data_, labels_ = batch_to_data(t)"
   ]
  },
  {
   "cell_type": "code",
   "execution_count": 12,
   "metadata": {
    "collapsed": true
   },
   "outputs": [
    {
     "name": "stdout",
     "output_type": "stream",
     "text": [
      "initialized\n",
      "Average loss at step 0: 3.295295\n",
      "Minibatch perplexity: 27.00\n",
      "Average loss at step 100: 3.048484\n",
      "Minibatch perplexity: 18.24\n"
     ]
    },
    {
     "ename": "KeyboardInterrupt",
     "evalue": "",
     "output_type": "error",
     "traceback": [
      "\u001b[1;31m---------------------------------------------------------------------------\u001b[0m",
      "\u001b[1;31mKeyboardInterrupt\u001b[0m                         Traceback (most recent call last)",
      "\u001b[1;32m<ipython-input-12-fb5be071c695>\u001b[0m in \u001b[0;36m<module>\u001b[1;34m()\u001b[0m\n\u001b[0;32m      7\u001b[0m     \u001b[0mmean_loss\u001b[0m \u001b[1;33m=\u001b[0m \u001b[1;36m0\u001b[0m\u001b[1;33m\u001b[0m\u001b[0m\n\u001b[0;32m      8\u001b[0m     \u001b[1;32mfor\u001b[0m \u001b[0mstep\u001b[0m \u001b[1;32min\u001b[0m \u001b[0mrange\u001b[0m\u001b[1;33m(\u001b[0m\u001b[0mnum_steps\u001b[0m\u001b[1;33m)\u001b[0m\u001b[1;33m:\u001b[0m\u001b[1;33m\u001b[0m\u001b[0m\n\u001b[1;32m----> 9\u001b[1;33m         \u001b[0mbatch\u001b[0m \u001b[1;33m=\u001b[0m \u001b[0mtrain_batches\u001b[0m\u001b[1;33m.\u001b[0m\u001b[0mnext\u001b[0m\u001b[1;33m(\u001b[0m\u001b[1;33m)\u001b[0m\u001b[1;33m\u001b[0m\u001b[0m\n\u001b[0m\u001b[0;32m     10\u001b[0m         \u001b[0mtrain_data\u001b[0m\u001b[1;33m,\u001b[0m \u001b[0mtrain_labels\u001b[0m \u001b[1;33m=\u001b[0m \u001b[0mbatch_to_data\u001b[0m\u001b[1;33m(\u001b[0m\u001b[0mbatch\u001b[0m\u001b[1;33m)\u001b[0m\u001b[1;33m\u001b[0m\u001b[0m\n\u001b[0;32m     11\u001b[0m         \u001b[0mfeed_dict\u001b[0m \u001b[1;33m=\u001b[0m \u001b[0mdict\u001b[0m\u001b[1;33m(\u001b[0m\u001b[1;33m)\u001b[0m\u001b[1;33m\u001b[0m\u001b[0m\n",
      "\u001b[1;32m<ipython-input-6-046e8325b31e>\u001b[0m in \u001b[0;36mnext\u001b[1;34m(self)\u001b[0m\n\u001b[0;32m     26\u001b[0m         \u001b[0mbatches\u001b[0m \u001b[1;33m=\u001b[0m \u001b[1;33m[\u001b[0m\u001b[0mself\u001b[0m\u001b[1;33m.\u001b[0m\u001b[0m_last_batch\u001b[0m\u001b[1;33m]\u001b[0m\u001b[1;33m\u001b[0m\u001b[0m\n\u001b[0;32m     27\u001b[0m         \u001b[1;32mfor\u001b[0m \u001b[0mstep\u001b[0m \u001b[1;32min\u001b[0m \u001b[0mrange\u001b[0m\u001b[1;33m(\u001b[0m\u001b[0mself\u001b[0m\u001b[1;33m.\u001b[0m\u001b[0m_num_unrollings\u001b[0m\u001b[1;33m)\u001b[0m\u001b[1;33m:\u001b[0m\u001b[1;33m\u001b[0m\u001b[0m\n\u001b[1;32m---> 28\u001b[1;33m             \u001b[0mbatches\u001b[0m\u001b[1;33m.\u001b[0m\u001b[0mappend\u001b[0m\u001b[1;33m(\u001b[0m\u001b[0mself\u001b[0m\u001b[1;33m.\u001b[0m\u001b[0m_next_batch\u001b[0m\u001b[1;33m(\u001b[0m\u001b[1;33m)\u001b[0m\u001b[1;33m)\u001b[0m\u001b[1;33m\u001b[0m\u001b[0m\n\u001b[0m\u001b[0;32m     29\u001b[0m         \u001b[0mself\u001b[0m\u001b[1;33m.\u001b[0m\u001b[0m_last_batch\u001b[0m \u001b[1;33m=\u001b[0m \u001b[0mbatches\u001b[0m\u001b[1;33m[\u001b[0m\u001b[1;33m-\u001b[0m\u001b[1;36m1\u001b[0m\u001b[1;33m]\u001b[0m\u001b[1;33m\u001b[0m\u001b[0m\n\u001b[0;32m     30\u001b[0m         \u001b[1;32mreturn\u001b[0m \u001b[0mbatches\u001b[0m\u001b[1;33m\u001b[0m\u001b[0m\n",
      "\u001b[1;32m<ipython-input-6-046e8325b31e>\u001b[0m in \u001b[0;36m_next_batch\u001b[1;34m(self)\u001b[0m\n\u001b[0;32m     14\u001b[0m     \u001b[1;32mdef\u001b[0m \u001b[0m_next_batch\u001b[0m\u001b[1;33m(\u001b[0m\u001b[0mself\u001b[0m\u001b[1;33m)\u001b[0m\u001b[1;33m:\u001b[0m\u001b[1;33m\u001b[0m\u001b[0m\n\u001b[0;32m     15\u001b[0m         \u001b[1;34m\"\"\"Generate a single batch from the current cursor position in the data.\"\"\"\u001b[0m\u001b[1;33m\u001b[0m\u001b[0m\n\u001b[1;32m---> 16\u001b[1;33m         \u001b[0mbatch\u001b[0m \u001b[1;33m=\u001b[0m \u001b[0mnp\u001b[0m\u001b[1;33m.\u001b[0m\u001b[0mzeros\u001b[0m\u001b[1;33m(\u001b[0m\u001b[0mshape\u001b[0m\u001b[1;33m=\u001b[0m\u001b[1;33m(\u001b[0m\u001b[0mself\u001b[0m\u001b[1;33m.\u001b[0m\u001b[0m_batch_size\u001b[0m\u001b[1;33m,\u001b[0m \u001b[0mvocabulary_size\u001b[0m\u001b[1;33m)\u001b[0m\u001b[1;33m,\u001b[0m \u001b[0mdtype\u001b[0m\u001b[1;33m=\u001b[0m\u001b[0mnp\u001b[0m\u001b[1;33m.\u001b[0m\u001b[0mfloat\u001b[0m\u001b[1;33m)\u001b[0m\u001b[1;33m\u001b[0m\u001b[0m\n\u001b[0m\u001b[0;32m     17\u001b[0m         \u001b[1;32mfor\u001b[0m \u001b[0mb\u001b[0m \u001b[1;32min\u001b[0m \u001b[0mrange\u001b[0m\u001b[1;33m(\u001b[0m\u001b[0mself\u001b[0m\u001b[1;33m.\u001b[0m\u001b[0m_batch_size\u001b[0m\u001b[1;33m)\u001b[0m\u001b[1;33m:\u001b[0m\u001b[1;33m\u001b[0m\u001b[0m\n\u001b[0;32m     18\u001b[0m             \u001b[0mbatch\u001b[0m\u001b[1;33m[\u001b[0m\u001b[0mb\u001b[0m\u001b[1;33m,\u001b[0m \u001b[0mchar2id\u001b[0m\u001b[1;33m(\u001b[0m\u001b[0mself\u001b[0m\u001b[1;33m.\u001b[0m\u001b[0m_text\u001b[0m\u001b[1;33m[\u001b[0m\u001b[0mself\u001b[0m\u001b[1;33m.\u001b[0m\u001b[0m_cursor\u001b[0m\u001b[1;33m[\u001b[0m\u001b[0mb\u001b[0m\u001b[1;33m]\u001b[0m\u001b[1;33m]\u001b[0m\u001b[1;33m)\u001b[0m\u001b[1;33m]\u001b[0m \u001b[1;33m=\u001b[0m \u001b[1;36m1.0\u001b[0m\u001b[1;33m\u001b[0m\u001b[0m\n",
      "\u001b[1;31mKeyboardInterrupt\u001b[0m: "
     ]
    }
   ],
   "source": [
    "num_steps = 7001\n",
    "summary_freq = 100\n",
    "with tf.Session(graph=graph) as sess:\n",
    "    tf.global_variables_initializer().run()\n",
    "    \n",
    "    print('initialized')\n",
    "    mean_loss = 0\n",
    "    for step in range(num_steps):\n",
    "        batch = train_batches.next()\n",
    "        train_data, train_labels = batch_to_data(batch)\n",
    "        feed_dict = dict()\n",
    "        feed_dict[data] = train_data\n",
    "        feed_dict[target] = train_labels\n",
    "        feed_dict[dropout] = 0.6\n",
    "        _, loss, train_predictions = sess.run([optimizer, cross_entropy, train_pred],\n",
    "                                             feed_dict=feed_dict)\n",
    "        mean_loss += loss\n",
    "        if step % summary_freq == 0:\n",
    "            if step > 0:\n",
    "                mean_loss = mean_loss / summary_freq\n",
    "            print('Average loss at step %d: %f' % (step, mean_loss))\n",
    "            mean_loss = 0\n",
    "            \n",
    "            labels = np.concatenate(list(batch)[1:])\n",
    "#             print(labels.shape)\n",
    "#             print(train_predictions.shape)\n",
    "            print('Minibatch perplexity: %.2f' % float(np.exp(logprob(\n",
    "                        train_predictions.reshape((num_unrollings*batch_size, 27)), labels))))"
   ]
  },
  {
   "cell_type": "code",
   "execution_count": null,
   "metadata": {
    "collapsed": true
   },
   "outputs": [],
   "source": []
  },
  {
   "cell_type": "code",
   "execution_count": null,
   "metadata": {
    "collapsed": true
   },
   "outputs": [],
   "source": []
  },
  {
   "cell_type": "code",
   "execution_count": null,
   "metadata": {
    "collapsed": true
   },
   "outputs": [],
   "source": []
  },
  {
   "cell_type": "code",
   "execution_count": null,
   "metadata": {
    "collapsed": true
   },
   "outputs": [],
   "source": []
  },
  {
   "cell_type": "code",
   "execution_count": null,
   "metadata": {
    "collapsed": true
   },
   "outputs": [],
   "source": []
  },
  {
   "cell_type": "markdown",
   "metadata": {},
   "source": [
    "Deep Learning\n",
    "=============\n",
    "\n",
    "Assignment 6\n",
    "------------\n",
    "\n",
    "After training a skip-gram model in `5_word2vec.ipynb`, the goal of this notebook is to train a LSTM character model over [Text8](http://mattmahoney.net/dc/textdata) data."
   ]
  },
  {
   "cell_type": "code",
   "execution_count": 13,
   "metadata": {
    "collapsed": false
   },
   "outputs": [],
   "source": [
    "# These are all the modules we'll be using later. Make sure you can import them\n",
    "# before proceeding further.\n",
    "from __future__ import print_function\n",
    "import os\n",
    "import numpy as np\n",
    "import random\n",
    "import string\n",
    "import tensorflow as tf\n",
    "import zipfile\n",
    "from six.moves import range\n",
    "from six.moves.urllib.request import urlretrieve"
   ]
  },
  {
   "cell_type": "code",
   "execution_count": 14,
   "metadata": {
    "collapsed": false
   },
   "outputs": [
    {
     "name": "stdout",
     "output_type": "stream",
     "text": [
      "Found and verified text8.zip\n"
     ]
    }
   ],
   "source": [
    "url = 'http://mattmahoney.net/dc/'\n",
    "\n",
    "def maybe_download(filename, expected_bytes):\n",
    "    \"\"\"Download a file if not present, and make sure it's the right size.\"\"\"\n",
    "    if not os.path.exists(filename):\n",
    "        filename, _ = urlretrieve(url + filename, filename)\n",
    "    statinfo = os.stat(filename)\n",
    "    if statinfo.st_size == expected_bytes:\n",
    "        print('Found and verified %s' % filename)\n",
    "    else:\n",
    "        print(statinfo.st_size)\n",
    "        raise Exception(\n",
    "            'Failed to verify ' + filename + '. Can you get to it with a browser?')\n",
    "    return filename\n",
    "\n",
    "filename = maybe_download('text8.zip', 31344016)"
   ]
  },
  {
   "cell_type": "code",
   "execution_count": 15,
   "metadata": {
    "collapsed": false
   },
   "outputs": [
    {
     "name": "stdout",
     "output_type": "stream",
     "text": [
      "Data size 100000000\n"
     ]
    }
   ],
   "source": [
    "def read_data(filename):\n",
    "    with zipfile.ZipFile(filename) as f:\n",
    "        name = f.namelist()[0]\n",
    "        data = tf.compat.as_str(f.read(name))\n",
    "    return data\n",
    "  \n",
    "text = read_data(filename)\n",
    "print('Data size %d' % len(text))"
   ]
  },
  {
   "cell_type": "code",
   "execution_count": 16,
   "metadata": {
    "collapsed": false
   },
   "outputs": [
    {
     "name": "stdout",
     "output_type": "stream",
     "text": [
      "99999000 ons anarchists advocate social relations based upon voluntary as\n",
      "1000  anarchism originated as a term of abuse first used against earl\n"
     ]
    }
   ],
   "source": [
    "valid_size = 1000\n",
    "valid_text = text[:valid_size]\n",
    "train_text = text[valid_size:]\n",
    "train_size = len(train_text)\n",
    "print(train_size, train_text[:64])\n",
    "print(valid_size, valid_text[:64])"
   ]
  },
  {
   "cell_type": "code",
   "execution_count": 51,
   "metadata": {
    "collapsed": false
   },
   "outputs": [
    {
     "name": "stdout",
     "output_type": "stream",
     "text": [
      "Unexpected character: ï\n",
      "1 26 0 0 27\n",
      "a z   .\n"
     ]
    }
   ],
   "source": [
    "vocabulary_size = len(string.ascii_lowercase) + 1 + 1 # [a-z] + ' ' + '<EOS>'\n",
    "first_letter = ord(string.ascii_lowercase[0])\n",
    "\n",
    "def char2id(char):\n",
    "    # Adding EOS to vocabulary\n",
    "    if char == '.':\n",
    "        return 27\n",
    "    if char in string.ascii_lowercase:\n",
    "        return ord(char) - first_letter + 1\n",
    "    elif char == ' ':\n",
    "        return 0\n",
    "    else:\n",
    "        print('Unexpected character: %s' % char)\n",
    "        return 0\n",
    "    \n",
    "def id2char(dictid):\n",
    "    if dictid == 27:\n",
    "        return '.'\n",
    "    if dictid > 0:\n",
    "        return chr(dictid + first_letter - 1)\n",
    "    else:\n",
    "        return ' '\n",
    "\n",
    "print(char2id('a'), char2id('z'), char2id(' '), char2id('ï'), char2id('.'))\n",
    "print(id2char(1), id2char(26), id2char(0), id2char(27))"
   ]
  },
  {
   "cell_type": "markdown",
   "metadata": {},
   "source": [
    "Function to generate a training batch for the LSTM model."
   ]
  },
  {
   "cell_type": "code",
   "execution_count": 295,
   "metadata": {
    "collapsed": false
   },
   "outputs": [
    {
     "name": "stdout",
     "output_type": "stream",
     "text": [
      "['khldh', 'lzhig', 'ucldb', 'itwqa', 'rfvpz', 'bobfx', 'kndia', 'iydbb', 'v dim', 'xuafy', 'sfuxl', 'ij zd', 'kzrnf', 'rjlig', 'nnjif', 'esclt', 'mzvtj', 'xdljr', ' ufri', 'crfbw']\n",
      "['dfklb', ' tbjd', 'isuee', 'cgklu', 'drrfx', 'styyu', 'rtysw', 'wmryb', 'zoiou', 'mgyra', 'cezrq', 'a pld', 'pq xd', 'mnc k', 'gbzw ', 'ymupo', 'ncbb ', 'cmhin', ' vwlx', 'mrqfp']\n",
      "['k']\n",
      "['l']\n"
     ]
    }
   ],
   "source": [
    "batch_size=20\n",
    "num_unrollings=5\n",
    "letter_choices = np.arange(vocabulary_size-1)\n",
    "class BatchGenerator(object):\n",
    "    def __init__(self, text, batch_size, num_unrollings):\n",
    "        self._text = text\n",
    "        self._text_size = len(text)\n",
    "        self._batch_size = batch_size\n",
    "        self._num_unrollings = num_unrollings\n",
    "        segment = self._text_size // batch_size\n",
    "        self._cursor = [ offset * segment for offset in range(batch_size)]\n",
    "        self._last_batch = self._next_batch()\n",
    "  \n",
    "    def _next_batch(self):\n",
    "        \"\"\"Generate a single batch from the current cursor position in the data.\"\"\"\n",
    "        batch = np.zeros(shape=(self._batch_size, vocabulary_size), dtype=np.float)\n",
    "        for b in range(self._batch_size):\n",
    "#             batch[b, char2id(self._text[self._cursor[b]])] = 1.0\n",
    "            batch[b, np.random.choice(letter_choices)] = 1.0\n",
    "#             self._cursor[b] = (self._cursor[b] + 1) % self._text_size\n",
    "        return batch\n",
    "    \n",
    "    def _eos_batch(self):\n",
    "        \"\"\"Generate a single batch of <EOS>\"\"\"\n",
    "        batch = np.zeros(shape=(self._batch_size, vocabulary_size), dtype=np.float)\n",
    "        batch[:, 27] = 1.0\n",
    "        return batch\n",
    "    \n",
    "    def next(self):\n",
    "        \"\"\"Generate the next array of batches from the data. The array consists of\n",
    "        the last batch of the previous array, followed by num_unrollings new ones.\n",
    "        \"\"\"\n",
    "        batches = []\n",
    "        for step in range(self._num_unrollings):\n",
    "            batches.append(self._next_batch())\n",
    "        self._last_batch = batches[-1]\n",
    "        return batches # + [self._eos_batch() ]\n",
    "\n",
    "def characters(probabilities):\n",
    "    \"\"\"Turn a 1-hot encoding or a probability distribution over the possible\n",
    "    characters back into its (most likely) character representation.\"\"\"\n",
    "    return [id2char(c) for c in np.argmax(probabilities, 1)]\n",
    "\n",
    "def batches2string(batches):\n",
    "    \"\"\"Convert a sequence of batches back into their (most likely) string\n",
    "    representation.\"\"\"\n",
    "    s = [''] * batches[0].shape[0]\n",
    "    for b in batches:\n",
    "        s = [''.join(x) for x in zip(s, characters(b))]\n",
    "    return s\n",
    "\n",
    "train_batches = BatchGenerator(train_text, batch_size, num_unrollings)\n",
    "valid_batches = BatchGenerator(valid_text, 1, 1)\n",
    "\n",
    "print(batches2string(train_batches.next()))\n",
    "print(batches2string(train_batches.next()))\n",
    "print(batches2string(valid_batches.next()))\n",
    "print(batches2string(valid_batches.next()))"
   ]
  },
  {
   "cell_type": "code",
   "execution_count": 296,
   "metadata": {
    "collapsed": true
   },
   "outputs": [],
   "source": [
    "def logprob(predictions, labels):\n",
    "  \"\"\"Log-probability of the true labels in a predicted batch.\"\"\"\n",
    "  predictions[predictions < 1e-10] = 1e-10\n",
    "  return np.sum(np.multiply(labels, -np.log(predictions))) / labels.shape[0]\n",
    "\n",
    "def sample_distribution(distribution):\n",
    "  \"\"\"Sample one element from a distribution assumed to be an array of normalized\n",
    "  probabilities.\n",
    "  \"\"\"\n",
    "  r = random.uniform(0, 1)\n",
    "  s = 0\n",
    "  for i in range(len(distribution)):\n",
    "    s += distribution[i]\n",
    "    if s >= r:\n",
    "      return i\n",
    "  return len(distribution) - 1\n",
    "\n",
    "def sample(prediction):\n",
    "  \"\"\"Turn a (column) prediction into 1-hot encoded samples.\"\"\"\n",
    "  p = np.zeros(shape=[1, vocabulary_size], dtype=np.float)\n",
    "  p[0, sample_distribution(prediction[0])] = 1.0\n",
    "  return p\n",
    "\n",
    "def random_distribution():\n",
    "  \"\"\"Generate a random column of probabilities.\"\"\"\n",
    "  b = np.random.uniform(0.0, 1.0, size=[1, vocabulary_size])\n",
    "  return b/np.sum(b, 1)[:,None]"
   ]
  },
  {
   "cell_type": "code",
   "execution_count": 297,
   "metadata": {
    "collapsed": true
   },
   "outputs": [],
   "source": [
    "def lstm_cell(i, o, state, ifco_iw, ifco_ow, ifco_b, num_nodes):\n",
    "#     print('i\\t', i.get_shape())\n",
    "#     print('ifco_iw\\t', ifco_iw.get_shape())\n",
    "#     print('o\\t',o.get_shape())\n",
    "#     print('ifco_ow\\t', ifco_ow.get_shape())\n",
    "#     print('ifco_b\\t', ifco_b.get_shape())\n",
    "    ifco = tf.matmul(i, ifco_iw) + tf.matmul(o, ifco_ow) + ifco_b\n",
    "#     print('ifco\\t', ifco.get_shape())\n",
    "#     print('state\\t', state.get_shape())\n",
    "    state = tf.sigmoid(ifco[:, 0:num_nodes]) * tf.tanh(ifco[:, 2*num_nodes:3*num_nodes]) + \\\n",
    "            tf.sigmoid(ifco[:, num_nodes:2*num_nodes]) * state\n",
    "#     print('state\\t', state.get_shape())\n",
    "    return tf.sigmoid(ifco[:, 3*num_nodes:4*num_nodes]) * tf.tanh(state), state"
   ]
  },
  {
   "cell_type": "code",
   "execution_count": 298,
   "metadata": {
    "collapsed": true
   },
   "outputs": [],
   "source": [
    "def multi_lstm_cell(i, o, state, ifco_iw, ifco_ow, ifco_b, num_nodes):\n",
    "    cellout = None\n",
    "    cellstate = None\n",
    "    outs, states = [], []\n",
    "    for idx in range(len(num_nodes)):\n",
    "\n",
    "        if idx == 0:\n",
    "            cellout, cellstate = lstm_cell(i, o[idx], state[idx], ifco_iw[idx], ifco_ow[idx], ifco_b[idx],\n",
    "                                           num_nodes[idx])\n",
    "        else:\n",
    "            cellout, cellstate = lstm_cell(cellout, o[idx], state[idx], ifco_iw[idx], ifco_ow[idx], ifco_b[idx],\n",
    "                                          num_nodes[idx])\n",
    "        outs.append(cellout)\n",
    "        states.append(cellstate)\n",
    "    return outs, states"
   ]
  },
  {
   "cell_type": "code",
   "execution_count": 317,
   "metadata": {
    "collapsed": false,
    "scrolled": false
   },
   "outputs": [],
   "source": [
    "encoder_neurons = 256\n",
    "encoder_layers = 1\n",
    "\n",
    "decoder_neurons = 256\n",
    "decoder_layers = 1\n",
    "input_max_length = num_unrollings\n",
    "output_max_length = num_unrollings\n",
    "target_size = vocabulary_size\n",
    "\n",
    "graph = tf.Graph()\n",
    "with graph.as_default():\n",
    "    \n",
    "    data = tf.placeholder(tf.float32, [batch_size, input_max_length, target_size], name='data')\n",
    "    _eos_markers_np = np.zeros([batch_size, target_size], dtype=np.float32)\n",
    "    _eos_markers_np[:, 27] = 1.0\n",
    "    eos_markers = tf.constant(value=_eos_markers_np, dtype=tf.float32, name='EOSes')\n",
    "    dropout = tf.placeholder(tf.float32, name='dropout')\n",
    "    \n",
    "    target = tf.placeholder(tf.float32, [batch_size, output_max_length, target_size], name='target')\n",
    "    out_size = int(target.get_shape()[2])\n",
    "#     cell = tf.nn.rnn_cell.LSTMCell(num_neurons)\n",
    "#     cell = tf.nn.rnn_cell.DropoutWrapper(cell, output_keep_prob=dropout)\n",
    "#     cell = tf.nn.rnn_cell.MultiRNNCell([cell]*num_layers)\n",
    "    #################################################################################\n",
    "    # Defining the encoder LSTM RNN                                                 #\n",
    "    #################################################################################\n",
    "    input_sizes = [target_size] + [encoder_neurons]*(encoder_layers-1)\n",
    "    enc_ifco_iws = [tf.Variable(tf.truncated_normal([insize, encoder_neurons*4], -0.07, 0.07))\n",
    "             for insize in input_sizes]\n",
    "    enc_ifco_ows = [tf.Variable(tf.truncated_normal([encoder_neurons, encoder_neurons*4], -0.07, 0.07))\n",
    "             for insize in input_sizes]\n",
    "    enc_ifco_bs = [tf.Variable(tf.ones([encoder_neurons*4])) for i in range(encoder_layers)]\n",
    "    \n",
    "    #################################################################################\n",
    "    # Running the encoder LSTM RNN                                                  #\n",
    "    #################################################################################\n",
    "#     output, state = tf.nn.dynamic_rnn(cell, data, dtype=tf.float32)\n",
    "    saved_output = [tf.Variable(tf.zeros([batch_size, encoder_neurons]), trainable=False) for i in range(encoder_layers)]\n",
    "    saved_state = [tf.Variable(tf.zeros([batch_size, encoder_neurons]), trainable=False) for i in range(encoder_layers)]\n",
    "    output = saved_output\n",
    "    state = saved_state\n",
    "    \n",
    "    enc_inputs = [data[:, i, :] for i in range(input_max_length)]  # feed the input vectors\n",
    "    enc_outputs = []\n",
    "    for idx, i in enumerate(enc_inputs):\n",
    "        output, state = multi_lstm_cell(i, output, state, enc_ifco_iws, enc_ifco_ows, enc_ifco_bs, [encoder_neurons]*encoder_layers)\n",
    "#         enc_outputs.append(output[-1])\n",
    "        \n",
    "#     print(state, '\\n')\n",
    "#     print(state[-1], '\\n')\n",
    "#     print(state[-1][0], '\\n')\n",
    "#     c = state[-1][0]\n",
    "#     c.set_shape((batch_size, c.get_shape()[1]))\n",
    "    c = state\n",
    "\n",
    "    #################################################################################\n",
    "    # Defining the decoder LSTM RNN                                                 #\n",
    "    #################################################################################\n",
    "    \n",
    "    input_sizes = [target_size] + [decoder_neurons]*(decoder_layers-1)\n",
    "    ifco_iws = [tf.Variable(tf.truncated_normal([insize, decoder_neurons*4], -0.07, 0.07))\n",
    "             for insize in input_sizes]\n",
    "    ifco_ows = [tf.Variable(tf.truncated_normal([decoder_neurons, decoder_neurons*4], -0.07, 0.07))\n",
    "             for insize in input_sizes]\n",
    "    ifco_bs = [tf.Variable(tf.ones([decoder_neurons*4])) for i in range(decoder_layers)]\n",
    "    \n",
    "    saved_output = [tf.Variable(tf.zeros([batch_size, decoder_neurons]), trainable=False) for i in range(decoder_layers)]\n",
    "#     saved_state = [tf.Variable(tf.zeros([batch_size, decoder_neurons]), trainable=False) for i in range(decoder_layers)]\n",
    "    output = saved_output\n",
    "#     state = saved_state\n",
    "#     print(c.get_shape())\n",
    "#     print(tf.zeros(c.get_shape()))\n",
    "#     zero_input = tf.Variable(tf.zeros(c.get_shape()), trainable=False)\n",
    "\n",
    "    #################################################################################\n",
    "    # Running the decoder LSTM RNN                                                  #\n",
    "    #################################################################################\n",
    "\n",
    "    dec_inputs = [eos_markers] + [target[:, i, :] for i in range(output_max_length-1)]  # feed the lagged goal vectors as inputs\n",
    "    dec_outputs = []\n",
    "    for idx, i in enumerate(dec_inputs):\n",
    "        if idx == 0:\n",
    "            output, state = multi_lstm_cell(i, output, c, ifco_iws, ifco_ows, ifco_bs, [decoder_neurons]*decoder_layers)\n",
    "        else:\n",
    "            output, state = multi_lstm_cell(i, output, state, ifco_iws, ifco_ows, ifco_bs, [decoder_neurons]*decoder_layers)\n",
    "        dec_outputs.append(output[-1])\n",
    "        \n",
    "    #################################################################################\n",
    "    # Classification step                                                           #\n",
    "    #################################################################################\n",
    "\n",
    "    class_w = tf.Variable(tf.truncated_normal([decoder_neurons, out_size], -0.07, 0.07))\n",
    "#     class_b = tf.Variable(tf.truncated_normal([out_size], -0.1, 0.1))\n",
    "    class_b = tf.Variable(tf.zeros([out_size], dtype=tf.float32))\n",
    "\n",
    "    output = tf.reshape(dec_outputs, [-1, decoder_neurons])\n",
    "    logits = tf.matmul(output, class_w) + class_b\n",
    "    train_pred = tf.nn.softmax(logits)\n",
    "\n",
    "    cross_entropy = tf.reduce_mean(tf.nn.softmax_cross_entropy_with_logits(\n",
    "        logits=logits, labels=target))\n",
    "\n",
    "    learn_rate = 0.1\n",
    "    optimizer = tf.train.GradientDescentOptimizer(learning_rate=learn_rate)\n",
    "    gradients, v = zip(*optimizer.compute_gradients(cross_entropy))\n",
    "    gradients, _ = tf.clip_by_global_norm(gradients, 1.25)\n",
    "    optimizer = optimizer.apply_gradients(zip(gradients, v))\n",
    "#     optimizer = tf.train.AdamOptimizer().minimize(cross_entropy, )\n",
    "#     optimizer."
   ]
  },
  {
   "cell_type": "code",
   "execution_count": 318,
   "metadata": {
    "collapsed": false
   },
   "outputs": [],
   "source": [
    "t = train_batches.next()"
   ]
  },
  {
   "cell_type": "code",
   "execution_count": 319,
   "metadata": {
    "collapsed": true
   },
   "outputs": [],
   "source": [
    "def batch_to_data(batch):\n",
    "    \"\"\"Format the batch batch of sequences to a batch of (forward, backward) \n",
    "       sequence pairs\"\"\"\n",
    "    train_data = []\n",
    "    labels = []\n",
    "    batch = np.array(batch).swapaxes(0, 1)\n",
    "    for seq in batch:\n",
    "        train_data.append(seq[:])\n",
    "        labels.append(seq[::-1])\n",
    "    return np.array(train_data), np.array(labels)"
   ]
  },
  {
   "cell_type": "code",
   "execution_count": 320,
   "metadata": {
    "collapsed": true
   },
   "outputs": [],
   "source": [
    "train_data_, labels_ = batch_to_data(t)"
   ]
  },
  {
   "cell_type": "code",
   "execution_count": 321,
   "metadata": {
    "collapsed": false
   },
   "outputs": [
    {
     "data": {
      "text/plain": [
       "(20, 5, 28)"
      ]
     },
     "execution_count": 321,
     "metadata": {},
     "output_type": "execute_result"
    }
   ],
   "source": [
    "train_data_.shape"
   ]
  },
  {
   "cell_type": "code",
   "execution_count": 322,
   "metadata": {
    "collapsed": true
   },
   "outputs": [],
   "source": [
    "def seq2string(vec):\n",
    "    return ''.join(characters(vec))\n",
    "def batch2string(batch):\n",
    "    return batches2string(batch)"
   ]
  },
  {
   "cell_type": "code",
   "execution_count": 323,
   "metadata": {
    "collapsed": false,
    "scrolled": true
   },
   "outputs": [
    {
     "data": {
      "text/plain": [
       "'wqpxu'"
      ]
     },
     "execution_count": 323,
     "metadata": {},
     "output_type": "execute_result"
    }
   ],
   "source": [
    "seq2string(train_data_[0])"
   ]
  },
  {
   "cell_type": "code",
   "execution_count": 324,
   "metadata": {
    "collapsed": false
   },
   "outputs": [
    {
     "data": {
      "text/plain": [
       "'uxpqw'"
      ]
     },
     "execution_count": 324,
     "metadata": {},
     "output_type": "execute_result"
    }
   ],
   "source": [
    "seq2string(labels_[0])"
   ]
  },
  {
   "cell_type": "code",
   "execution_count": 325,
   "metadata": {
    "collapsed": false,
    "scrolled": true
   },
   "outputs": [
    {
     "name": "stdout",
     "output_type": "stream",
     "text": [
      "initialized\n",
      "Average loss at step 0: 3.359133\n",
      "Minibatch perplexity: 28.97\n",
      "lhc z\n",
      "z chl\n",
      "ppppp\n",
      "Average loss at step 100: 3.321066\n",
      "Minibatch perplexity: 27.14\n",
      "vlpzm\n",
      "mzplv\n",
      "sssss\n",
      "Average loss at step 200: 3.316106\n",
      "Minibatch perplexity: 27.04\n",
      "tfcia\n",
      "aicft\n",
      "aaaaa\n",
      "Average loss at step 300: 3.312999\n",
      "Minibatch perplexity: 27.26\n",
      "euwxe\n",
      "exwue\n",
      "jjjjj\n",
      "Average loss at step 400: 3.312339\n",
      "Minibatch perplexity: 26.99\n",
      "jknps\n",
      "spnkj\n",
      "ooooo\n",
      "Average loss at step 500: 3.312395\n",
      "Minibatch perplexity: 27.61\n",
      "aflap\n",
      "palfa\n",
      "fffff\n",
      "Average loss at step 600: 3.309717\n",
      "Minibatch perplexity: 26.73\n",
      "fevot\n",
      "tovef\n",
      "hhhhh\n",
      "Average loss at step 700: 3.308902\n",
      "Minibatch perplexity: 26.84\n",
      "yeldl\n",
      "ldley\n",
      "uuuuu\n",
      "Average loss at step 800: 3.308402\n",
      "Minibatch perplexity: 27.29\n",
      "gieto\n",
      "oteig\n",
      "rrrrr\n",
      "Average loss at step 900: 3.308772\n",
      "Minibatch perplexity: 27.09\n",
      "vpjxd\n",
      "dxjpv\n",
      "xxxxx\n",
      "Average loss at step 1000: 3.307965\n",
      "Minibatch perplexity: 26.88\n",
      "euucd\n",
      "dcuue\n",
      "sssss\n",
      "Average loss at step 1100: 3.308100\n",
      "Minibatch perplexity: 26.88\n",
      "iy ht\n",
      "th yi\n",
      "qqqqq\n",
      "Average loss at step 1200: 3.307871\n",
      "Minibatch perplexity: 27.51\n",
      "mijum\n",
      "mujim\n",
      "zzzzo\n",
      "Average loss at step 1300: 3.307374\n",
      "Minibatch perplexity: 27.31\n",
      "liznj\n",
      "jnzil\n",
      "mmmmm\n",
      "Average loss at step 1400: 3.307995\n",
      "Minibatch perplexity: 27.08\n",
      "gt qd\n",
      "dq tg\n",
      "     \n",
      "Average loss at step 1500: 3.307598\n",
      "Minibatch perplexity: 27.24\n",
      "soejl\n",
      "ljeos\n",
      "qqqqq\n",
      "Average loss at step 1600: 3.306415\n",
      "Minibatch perplexity: 27.20\n",
      "cjkoy\n",
      "yokjc\n",
      "iiiii\n",
      "Average loss at step 1700: 3.306085\n",
      "Minibatch perplexity: 27.17\n",
      "sboh \n",
      " hobs\n",
      "ccccc\n",
      "Average loss at step 1800: 3.306606\n",
      "Minibatch perplexity: 27.16\n",
      "eceri\n",
      "irece\n",
      "hhhhh\n",
      "Average loss at step 1900: 3.306729\n",
      "Minibatch perplexity: 27.75\n",
      "zccbd\n",
      "dbccz\n",
      "ddddd\n",
      "Average loss at step 2000: 3.306382\n",
      "Minibatch perplexity: 27.45\n",
      "sy wq\n",
      "qw ys\n",
      "bbbbb\n",
      "Average loss at step 2100: 3.306623\n",
      "Minibatch perplexity: 26.85\n",
      "tdhzt\n",
      "tzhdt\n",
      "ebbeb\n",
      "Average loss at step 2200: 3.306717\n",
      "Minibatch perplexity: 27.18\n",
      "gs ll\n",
      "ll sg\n",
      "wwwww\n",
      "Average loss at step 2300: 3.305312\n",
      "Minibatch perplexity: 27.36\n",
      "bfvui\n",
      "iuvfb\n",
      "sssss\n",
      "Average loss at step 2400: 3.305348\n",
      "Minibatch perplexity: 26.49\n",
      "tbwsa\n",
      "aswbt\n",
      "sssss\n",
      "Average loss at step 2500: 3.306234\n",
      "Minibatch perplexity: 26.86\n",
      "hug v\n",
      "v guh\n",
      "ggggg\n",
      "Average loss at step 2600: 3.306503\n",
      "Minibatch perplexity: 28.62\n",
      "zsepl\n",
      "lpesz\n",
      "aaaaa\n",
      "Average loss at step 2700: 3.305380\n",
      "Minibatch perplexity: 27.47\n",
      "daiar\n",
      "raiad\n",
      "fffff\n",
      "Average loss at step 2800: 3.304695\n",
      "Minibatch perplexity: 26.96\n",
      "xtamg\n",
      "gmatx\n",
      "xxxxx\n",
      "Average loss at step 2900: 3.306519\n",
      "Minibatch perplexity: 27.51\n",
      "jl zf\n",
      "fz lj\n",
      "zzttt\n",
      "Average loss at step 3000: 3.305393\n",
      "Minibatch perplexity: 27.18\n",
      "wuyfi\n",
      "ifyuw\n",
      "wwwww\n",
      "Average loss at step 3100: 3.306198\n",
      "Minibatch perplexity: 27.09\n",
      "rqmrk\n",
      "krmqr\n",
      "lllll\n",
      "Average loss at step 3200: 3.305685\n",
      "Minibatch perplexity: 26.69\n",
      "ipdel\n",
      "ledpi\n",
      "hhhhh\n",
      "Average loss at step 3300: 3.303944\n",
      "Minibatch perplexity: 27.23\n",
      "vufxu\n",
      "uxfuv\n",
      "vwwwv\n",
      "Average loss at step 3400: 3.304291\n",
      "Minibatch perplexity: 27.12\n",
      "pxdho\n",
      "ohdxp\n",
      "mmmmm\n",
      "Average loss at step 3500: 3.305255\n",
      "Minibatch perplexity: 26.50\n",
      "nsdrw\n",
      "wrdsn\n",
      "aaaaa\n",
      "Average loss at step 3600: 3.304157\n",
      "Minibatch perplexity: 27.21\n",
      "gbmxs\n",
      "sxmbg\n",
      "ccccc\n",
      "Average loss at step 3700: 3.304928\n",
      "Minibatch perplexity: 27.56\n",
      " qtjc\n",
      "cjtq \n",
      "xxxxx\n",
      "Average loss at step 3800: 3.304759\n",
      "Minibatch perplexity: 27.66\n",
      "  ycf\n",
      "fcy  \n",
      "     \n",
      "Average loss at step 3900: 3.305004\n",
      "Minibatch perplexity: 27.16\n",
      "kbkug\n",
      "gukbk\n",
      "ggggg\n",
      "Average loss at step 4000: 3.304616\n",
      "Minibatch perplexity: 27.34\n",
      "oejsk\n",
      "ksjeo\n",
      "aaaaa\n",
      "Average loss at step 4100: 3.304372\n",
      "Minibatch perplexity: 27.45\n",
      "fjzlq\n",
      "qlzjf\n",
      "bbbbb\n",
      "Average loss at step 4200: 3.305292\n",
      "Minibatch perplexity: 26.95\n",
      "kjfb \n",
      " bfjk\n",
      "ppppo\n",
      "Average loss at step 4300: 3.304907\n",
      "Minibatch perplexity: 27.25\n",
      "inpfr\n",
      "rfpni\n",
      "ffffc\n",
      "Average loss at step 4400: 3.303548\n",
      "Minibatch perplexity: 27.57\n",
      "jd di\n",
      "id dj\n",
      "yyyyy\n",
      "Average loss at step 4500: 3.304360\n",
      "Minibatch perplexity: 27.57\n",
      "wdjgl\n",
      "lgjdw\n",
      "wwwww\n",
      "Average loss at step 4600: 3.303228\n",
      "Minibatch perplexity: 26.76\n",
      "gfgva\n",
      "avgfg\n",
      "fffff\n",
      "Average loss at step 4700: 3.304474\n",
      "Minibatch perplexity: 27.71\n",
      "pjaqr\n",
      "rqajp\n",
      "wwwww\n",
      "Average loss at step 4800: 3.303849\n",
      "Minibatch perplexity: 27.62\n",
      "chciz\n",
      "zichc\n",
      "xlxxx\n",
      "Average loss at step 4900: 3.304934\n",
      "Minibatch perplexity: 27.35\n",
      "abtqu\n",
      "uqtba\n",
      "vvvvv\n",
      "Average loss at step 5000: 3.303652\n",
      "Minibatch perplexity: 27.42\n",
      "txtyd\n",
      "dytxt\n",
      "ooooo\n",
      "Average loss at step 5100: 3.303176\n",
      "Minibatch perplexity: 27.61\n",
      "xfavx\n",
      "xvafx\n",
      "ppppp\n",
      "Average loss at step 5200: 3.304437\n",
      "Minibatch perplexity: 27.65\n",
      "syzho\n",
      "ohzys\n",
      "fffff\n",
      "Average loss at step 5300: 3.304408\n",
      "Minibatch perplexity: 27.36\n",
      "coonm\n",
      "mnooc\n",
      "ccccc\n",
      "Average loss at step 5400: 3.305063\n",
      "Minibatch perplexity: 27.31\n",
      "lwiev\n",
      "veiwl\n",
      "nnnnn\n",
      "Average loss at step 5500: 3.304580\n",
      "Minibatch perplexity: 26.77\n",
      "mfwje\n",
      "ejwfm\n",
      "nnnnn\n",
      "Average loss at step 5600: 3.303658\n",
      "Minibatch perplexity: 27.17\n",
      "xsire\n",
      "erisx\n",
      "eeeee\n",
      "Average loss at step 5700: 3.304175\n",
      "Minibatch perplexity: 27.39\n",
      "rnreb\n",
      "bernr\n",
      "jjjjj\n",
      "Average loss at step 5800: 3.303121\n",
      "Minibatch perplexity: 27.17\n",
      "notzm\n",
      "mzton\n",
      "sssss\n",
      "Average loss at step 5900: 3.302717\n",
      "Minibatch perplexity: 26.75\n",
      "nytpm\n",
      "mptyn\n",
      "ddddd\n",
      "Average loss at step 6000: 3.302505\n",
      "Minibatch perplexity: 26.87\n",
      "fncql\n",
      "lqcnf\n",
      "bbbbb\n",
      "Average loss at step 6100: 3.303947\n",
      "Minibatch perplexity: 27.01\n",
      "fcs y\n",
      "y scf\n",
      "aaaaa\n",
      "Average loss at step 6200: 3.304605\n",
      "Minibatch perplexity: 27.34\n",
      "zmsde\n",
      "edsmz\n",
      "rrrrr\n",
      "Average loss at step 6300: 3.303935\n",
      "Minibatch perplexity: 27.05\n",
      "nfyao\n",
      "oayfn\n",
      "ggggg\n",
      "Average loss at step 6400: 3.303118\n",
      "Minibatch perplexity: 27.61\n",
      "khbvv\n",
      "vvbhk\n",
      "lllll\n",
      "Average loss at step 6500: 3.303618\n",
      "Minibatch perplexity: 27.56\n",
      "thvop\n",
      "povht\n",
      "aaaaa\n",
      "Average loss at step 6600: 3.303240\n",
      "Minibatch perplexity: 27.54\n",
      "uiqiu\n",
      "uiqiu\n",
      "ttttt\n",
      "Average loss at step 6700: 3.304030\n",
      "Minibatch perplexity: 27.22\n",
      "osykp\n",
      "pkyso\n",
      "sssss\n",
      "Average loss at step 6800: 3.303297\n",
      "Minibatch perplexity: 26.97\n",
      "zpqrr\n",
      "rrqpz\n",
      "sssss\n",
      "Average loss at step 6900: 3.304007\n",
      "Minibatch perplexity: 27.52\n",
      "qlhbf\n",
      "fbhlq\n",
      "ccccc\n",
      "Average loss at step 7000: 3.303580\n",
      "Minibatch perplexity: 26.94\n",
      "ccvcp\n",
      "pcvcc\n",
      "zzzzz\n"
     ]
    }
   ],
   "source": [
    "num_steps = 7001\n",
    "summary_freq = 100\n",
    "with tf.Session(graph=graph) as sess:\n",
    "    tf.global_variables_initializer().run()\n",
    "    \n",
    "    print('initialized')\n",
    "    mean_loss = 0\n",
    "    for step in range(num_steps):\n",
    "        batch = train_batches.next()\n",
    "        train_data, train_labels = batch_to_data(batch)\n",
    "        feed_dict = dict()\n",
    "        feed_dict[data] = train_data\n",
    "        feed_dict[target] = train_labels\n",
    "        feed_dict[dropout] = 1.0\n",
    "        _, loss, train_predictions, embedding = sess.run([optimizer, cross_entropy, train_pred, c],\n",
    "                                             feed_dict=feed_dict)\n",
    "        mean_loss += loss\n",
    "        if step % summary_freq == 0:\n",
    "            if step > 0:\n",
    "                mean_loss = mean_loss / summary_freq\n",
    "            print('Average loss at step %d: %f' % (step, mean_loss))\n",
    "            mean_loss = 0\n",
    "            \n",
    "            labels = np.concatenate(list(batch)[::-1])\n",
    "\n",
    "            print('Minibatch perplexity: %.2f' % float(np.exp(logprob(\n",
    "                        train_predictions, labels))))\n",
    "            inputs, labels = batch_to_data(batch)\n",
    "            print(seq2string(inputs[0]))\n",
    "            print(seq2string(labels[0]))\n",
    "            train_predictions = train_predictions.reshape((batch_size, (num_unrollings), vocabulary_size))\n",
    "            saved_train_predictions = train_predictions\n",
    "\n",
    "            print(seq2string(train_predictions[0]))\n",
    "#             print(embedding)\n",
    "#             print()\n",
    "#             print(class_w.eval())\n",
    "#             print()\n",
    "#             print(class_b.eval())\n",
    "#             print()\n",
    "#             print(train_predictions)\n",
    "            \n",
    "#             print(labels.shape)\n",
    "#             print(train_predictions.shape)\n",
    "            "
   ]
  },
  {
   "cell_type": "code",
   "execution_count": null,
   "metadata": {
    "collapsed": true
   },
   "outputs": [],
   "source": []
  }
 ],
 "metadata": {
  "anaconda-cloud": {},
  "kernelspec": {
   "display_name": "Python 3",
   "language": "python",
   "name": "python3"
  },
  "language_info": {
   "codemirror_mode": {
    "name": "ipython",
    "version": 3
   },
   "file_extension": ".py",
   "mimetype": "text/x-python",
   "name": "python",
   "nbconvert_exporter": "python",
   "pygments_lexer": "ipython3",
   "version": "3.5.2"
  }
 },
 "nbformat": 4,
 "nbformat_minor": 0
}
